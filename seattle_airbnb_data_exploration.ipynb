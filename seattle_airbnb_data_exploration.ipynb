{
 "cells": [
  {
   "cell_type": "code",
   "execution_count": 1,
   "metadata": {
    "_cell_guid": "b1076dfc-b9ad-4769-8c92-a6c4dae69d19",
    "_uuid": "8f2839f25d086af736a60e9eeb907d3b93b6e0e5"
   },
   "outputs": [
    {
     "name": "stdout",
     "output_type": "stream",
     "text": [
      "['reviews.csv', 'calendar.csv', 'listings.csv']\n"
     ]
    }
   ],
   "source": [
    "# This Python 3 environment comes with many helpful analytics libraries installed\n",
    "# It is defined by the kaggle/python docker image: https://github.com/kaggle/docker-python\n",
    "# For example, here's several helpful packages to load in \n",
    "\n",
    "import numpy as np # linear algebra\n",
    "import pandas as pd # data processing, CSV file I/O (e.g. pd.read_csv)\n",
    "import matplotlib.pyplot as plt\n",
    "import seaborn as sns\n",
    "\n",
    "# Input data files are available in the \"../input/\" directory.\n",
    "# For example, running this (by clicking run or pressing Shift+Enter) will list the files in the input directory\n",
    "\n",
    "import os\n",
    "print(os.listdir(\"../input\"))\n",
    "\n",
    "# Any results you write to the current directory are saved as output.\n",
    "\n",
    "calendar_df = pd.read_csv('../input/calendar.csv')\n",
    "listing_df = pd.read_csv('../input/listings.csv')\n",
    "reviews_df = pd.read_csv('../input/reviews.csv')"
   ]
  },
  {
   "cell_type": "markdown",
   "metadata": {},
   "source": [
    "## Here, I'll be examining the Seattle Airbnb data using a CRISP-DM process.  For those unfamiliar, the CRISP-DM (Cross-Industry Standard Process for Data Mining) is as follows:\n",
    "### 1.  Business Understanding - What is the Overall Goal?\n",
    "### 2.  Data Understanding - What data do you need and how is it structured?\n",
    "### 3.  Data Preparation - Data is generally \"messy\" and needs to be filtered\n",
    "### 4.  Modeling - Often our topics of interest require models to make predictions for future data\n",
    "### 5.  Evaluation - Models need to be evaluated for their effectiveness\n",
    "### 6.  Deployment - Use the results of this process in order to accomplish the initial goal\n",
    "<br>\n",
    "## For me, I have three topics to examine:\n",
    "### 1.  Is there a peak season for demand in Airbnbs in Seattle?  If so, when is it?\n",
    "#### &nbsp;&nbsp;&nbsp;&nbsp;&nbsp;&nbsp; For me, this is interesting to establish seasonality.  Hosts may want to offer promotions during the off-season in order to get their room filled.  Also, they can probably maximize revenue by charging more during the in-season.\n",
    "### 2.  What attributes correlate with being a Superhost?\n",
    "#### &nbsp;&nbsp;&nbsp;&nbsp;&nbsp;&nbsp; If I plan on hosting on Airbnb, what should I do to become a Superhost?\n",
    "### 3.  How much does the average Airbnb host earn per year from each listing?\n",
    "#### &nbsp;&nbsp;&nbsp;&nbsp;&nbsp;&nbsp; This is potentially useful for people considering being an Airbnb host.\n",
    "<br>\n",
    "<br>"
   ]
  },
  {
   "cell_type": "markdown",
   "metadata": {},
   "source": [
    "## 1.  Is there a peak season for renting Airbnbs in Seattle?  If so, when is it?\n",
    "<br>\n",
    "### Business Understanding\n",
    "#### &nbsp;&nbsp;&nbsp;&nbsp;&nbsp;&nbsp; In order to understand seasonality of the service sold.\n",
    "### Data Understanding\n",
    "#### &nbsp;&nbsp;&nbsp;&nbsp;&nbsp;&nbsp; I'll need average room prices per day in order to see the annual shifts in demand.  The greater the price, the greater the demand."
   ]
  },
  {
   "cell_type": "code",
   "execution_count": 2,
   "metadata": {},
   "outputs": [
    {
     "data": {
      "text/html": [
       "<div>\n",
       "<style scoped>\n",
       "    .dataframe tbody tr th:only-of-type {\n",
       "        vertical-align: middle;\n",
       "    }\n",
       "\n",
       "    .dataframe tbody tr th {\n",
       "        vertical-align: top;\n",
       "    }\n",
       "\n",
       "    .dataframe thead th {\n",
       "        text-align: right;\n",
       "    }\n",
       "</style>\n",
       "<table border=\"1\" class=\"dataframe\">\n",
       "  <thead>\n",
       "    <tr style=\"text-align: right;\">\n",
       "      <th></th>\n",
       "      <th>listing_id</th>\n",
       "      <th>date</th>\n",
       "      <th>available</th>\n",
       "      <th>price</th>\n",
       "    </tr>\n",
       "  </thead>\n",
       "  <tbody>\n",
       "    <tr>\n",
       "      <th>0</th>\n",
       "      <td>241032</td>\n",
       "      <td>2016-01-04</td>\n",
       "      <td>t</td>\n",
       "      <td>$85.00</td>\n",
       "    </tr>\n",
       "    <tr>\n",
       "      <th>1</th>\n",
       "      <td>241032</td>\n",
       "      <td>2016-01-05</td>\n",
       "      <td>t</td>\n",
       "      <td>$85.00</td>\n",
       "    </tr>\n",
       "    <tr>\n",
       "      <th>2</th>\n",
       "      <td>241032</td>\n",
       "      <td>2016-01-06</td>\n",
       "      <td>f</td>\n",
       "      <td>NaN</td>\n",
       "    </tr>\n",
       "    <tr>\n",
       "      <th>3</th>\n",
       "      <td>241032</td>\n",
       "      <td>2016-01-07</td>\n",
       "      <td>f</td>\n",
       "      <td>NaN</td>\n",
       "    </tr>\n",
       "    <tr>\n",
       "      <th>4</th>\n",
       "      <td>241032</td>\n",
       "      <td>2016-01-08</td>\n",
       "      <td>f</td>\n",
       "      <td>NaN</td>\n",
       "    </tr>\n",
       "  </tbody>\n",
       "</table>\n",
       "</div>"
      ],
      "text/plain": [
       "   listing_id        date available   price\n",
       "0      241032  2016-01-04         t  $85.00\n",
       "1      241032  2016-01-05         t  $85.00\n",
       "2      241032  2016-01-06         f     NaN\n",
       "3      241032  2016-01-07         f     NaN\n",
       "4      241032  2016-01-08         f     NaN"
      ]
     },
     "execution_count": 2,
     "metadata": {},
     "output_type": "execute_result"
    }
   ],
   "source": [
    "calendar_df.head()"
   ]
  },
  {
   "cell_type": "markdown",
   "metadata": {},
   "source": [
    "### Data Preparation\n",
    "#### &nbsp;&nbsp;&nbsp;&nbsp;&nbsp;&nbsp; First, I create a new dataframe that will give us prices."
   ]
  },
  {
   "cell_type": "code",
   "execution_count": 3,
   "metadata": {},
   "outputs": [
    {
     "name": "stderr",
     "output_type": "stream",
     "text": [
      "/opt/conda/lib/python3.6/site-packages/ipykernel_launcher.py:2: SettingWithCopyWarning: \n",
      "A value is trying to be set on a copy of a slice from a DataFrame.\n",
      "Try using .loc[row_indexer,col_indexer] = value instead\n",
      "\n",
      "See the caveats in the documentation: http://pandas.pydata.org/pandas-docs/stable/indexing.html#indexing-view-versus-copy\n",
      "  \n"
     ]
    }
   ],
   "source": [
    "calendar_price_df = calendar_df[calendar_df['price'].isnull() == False]\n",
    "calendar_price_df['price_2'] = calendar_price_df['price'].map(lambda x: pd.to_numeric(x[1:].replace(\",\", \"\")))"
   ]
  },
  {
   "cell_type": "markdown",
   "metadata": {},
   "source": [
    "#### Next, I average these prices by day and plot them\n",
    "<br>\n",
    "### Modeling\n",
    "#### &nbsp;&nbsp;&nbsp;&nbsp;&nbsp;&nbsp; I can't say there's much of a model here, but we see the result through visual inspection."
   ]
  },
  {
   "cell_type": "code",
   "execution_count": 4,
   "metadata": {},
   "outputs": [
    {
     "data": {
      "image/png": "[encoded data removed]",
      "text/plain": [
       "<Figure size 1800x576 with 1 Axes>"
      ]
     },
     "metadata": {},
     "output_type": "display_data"
    }
   ],
   "source": [
    "calendar_price_grouped_df = calendar_price_df.groupby(['date'])['price_2'].mean().reset_index()\n",
    "calendar_price_grouped_df['date'] = pd.to_datetime(calendar_price_grouped_df['date'])\n",
    "plt.figure(figsize=(25, 8))\n",
    "plt.plot(calendar_price_grouped_df['date'], calendar_price_grouped_df['price_2'], color='b', marker='.', linewidth=2)\n",
    "plt.title(\"Average price of rentals by date\")\n",
    "plt.grid()"
   ]
  },
  {
   "cell_type": "markdown",
   "metadata": {},
   "source": [
    "### Evaluation\n",
    "#### &nbsp;&nbsp;&nbsp;&nbsp;&nbsp;&nbsp; So, we see a linear climb in average prices from around 120 to 150 dollars per night from January to July.  Prices stay high from July to August, fall throughout September, and then stay steady throughout the rest of the year.\n",
    "<br>\n",
    "### Deployment\n",
    "#### &nbsp;&nbsp;&nbsp;&nbsp;&nbsp;&nbsp; In sum, the highest demand season is summer, and the lowest demand season is late winter.  Airbnb hosts can use this knowledge accordingly for their own pricing and promotions.\n",
    "<br>"
   ]
  },
  {
   "cell_type": "markdown",
   "metadata": {},
   "source": [
    "## 2.  What factors correlate with being a superhost?\n",
    "### Business Understanding\n",
    "#### &nbsp;&nbsp;&nbsp;&nbsp;&nbsp;&nbsp; It seems that earning the status of Superhost would offer some advantages in the eyes of consumers and potentially in the search algorithms Airbnb designed.  So, how does one acquire the title?\n",
    "<br>\n",
    "### Data Understanding\n",
    "#### &nbsp;&nbsp;&nbsp;&nbsp;&nbsp;&nbsp; For this, I think we need to examine several attributes and compare them between Superhosts vs. non-Superhosts.  This will give us a general idea of how they're different.\n",
    "<br>\n",
    "### Data Preparation\n",
    "#### &nbsp;&nbsp;&nbsp;&nbsp;&nbsp;&nbsp; We'll need to separate Superhost from non-Superhost and compare them by the same attributes."
   ]
  },
  {
   "cell_type": "markdown",
   "metadata": {},
   "source": [
    "#### First, what is the percentage of superhosts in the dataset?"
   ]
  },
  {
   "cell_type": "code",
   "execution_count": 5,
   "metadata": {},
   "outputs": [
    {
     "name": "stdout",
     "output_type": "stream",
     "text": [
      "20 percent of hosts are Superhosts\n"
     ]
    }
   ],
   "source": [
    "super_pct = listing_df[listing_df['host_is_superhost'] == 't'].shape[0] / listing_df.shape[0]\n",
    "print('%.0f percent of hosts are Superhosts' % (super_pct*100))"
   ]
  },
  {
   "cell_type": "markdown",
   "metadata": {},
   "source": [
    "#### Next, I separate the hosts from superhosts and prepare for modeling"
   ]
  },
  {
   "cell_type": "code",
   "execution_count": 6,
   "metadata": {},
   "outputs": [],
   "source": [
    "listing_superhost_df = listing_df[listing_df['host_is_superhost'] == 't']\n",
    "listing_normhost_df = listing_df[listing_df['host_is_superhost'] == 'f']"
   ]
  },
  {
   "cell_type": "markdown",
   "metadata": {},
   "source": [
    "### Modeling\n",
    "#### &nbsp;&nbsp;&nbsp;&nbsp;&nbsp;&nbsp; Here, we'll be visually comparing a few attributes between Superhost and non-Superhost"
   ]
  },
  {
   "cell_type": "code",
   "execution_count": 7,
   "metadata": {},
   "outputs": [
    {
     "data": {
      "image/png": "[encoded data removed]",
      "text/plain": [
       "<Figure size 1080x1440 with 6 Axes>"
      ]
     },
     "metadata": {},
     "output_type": "display_data"
    }
   ],
   "source": [
    "fig, ax = plt.subplots(3,2, figsize=(15,20))\n",
    "\n",
    "ax[0,0].set_title('Super host')\n",
    "ax[0,1].set_title('Normal host')\n",
    "ax[1,0].set_title('Super host')\n",
    "ax[1,1].set_title('Normal host')\n",
    "ax[2,0].set_title('Super host')\n",
    "ax[2,1].set_title('Normal host')\n",
    "\n",
    "sns.countplot(listing_superhost_df['host_response_time'], ax=ax[0,0], order = listing_superhost_df['host_response_time'].value_counts().index)\n",
    "sns.countplot(listing_normhost_df['host_response_time'], ax=ax[0,1], order = listing_normhost_df['host_response_time'].value_counts().index)\n",
    "sns.countplot(listing_superhost_df['host_identity_verified'], ax=ax[1,0], order = listing_superhost_df['host_identity_verified'].value_counts().index)\n",
    "sns.countplot(listing_normhost_df['host_identity_verified'], ax=ax[1,1], order = listing_normhost_df['host_identity_verified'].value_counts().index)\n",
    "sns.countplot(listing_superhost_df['cancellation_policy'], ax=ax[2,0], order = listing_superhost_df['cancellation_policy'].value_counts().index)\n",
    "sns.countplot(listing_normhost_df['cancellation_policy'], ax=ax[2,1], order = listing_normhost_df['cancellation_policy'].value_counts().index);"
   ]
  },
  {
   "cell_type": "markdown",
   "metadata": {},
   "source": [
    "### Evaluation\n",
    "#### &nbsp;&nbsp;&nbsp;&nbsp;&nbsp;&nbsp; Through visual inspection, it appears that Superhosts usually respond within an hour, are more likely to have their identity verified, and don't offer flexible cancellation plans.\n",
    "#### &nbsp;&nbsp;&nbsp;&nbsp;&nbsp;&nbsp; We further confirm this through descriptive statistics."
   ]
  },
  {
   "cell_type": "code",
   "execution_count": 8,
   "metadata": {},
   "outputs": [
    {
     "name": "stdout",
     "output_type": "stream",
     "text": [
      "Superhosts respond within an hour 63 percent of the time.\n",
      "Typical hosts respond within an hour 40 percent of the time.\n",
      " \n",
      "Superhosts confirm their identity 90 percent of the time.\n",
      "Typical hosts confirm their identity 76 percent of the time.\n",
      " \n",
      "Superhosts have flexible cancellation policies 18 percent of the time.\n",
      "Typical hosts have flexible cancellation policies 33 percent of the time.\n"
     ]
    }
   ],
   "source": [
    "within_an_hour_super = listing_superhost_df['host_response_time'][listing_superhost_df['host_response_time'] == 'within an hour'].count() / listing_superhost_df.shape[0]\n",
    "within_an_hour_norm = listing_normhost_df['host_response_time'][listing_normhost_df['host_response_time'] == 'within an hour'].count() / listing_normhost_df.shape[0]\n",
    "identity_super = listing_superhost_df['host_identity_verified'][listing_superhost_df['host_identity_verified'] == 't'].count() / listing_superhost_df.shape[0]\n",
    "identity_norm = listing_normhost_df['host_identity_verified'][listing_normhost_df['host_identity_verified'] == 't'].count() / listing_normhost_df.shape[0]\n",
    "flexible_cancel_super = listing_superhost_df['cancellation_policy'][listing_superhost_df['cancellation_policy'] == 'flexible'].count() / listing_superhost_df.shape[0]\n",
    "flexible_cancel_norm = listing_normhost_df['cancellation_policy'][listing_normhost_df['cancellation_policy'] == 'flexible'].count() / listing_normhost_df.shape[0]\n",
    "\n",
    "print('Superhosts respond within an hour %.0f percent of the time.' % (within_an_hour_super*100))\n",
    "print('Typical hosts respond within an hour %.0f percent of the time.' % (within_an_hour_norm*100))\n",
    "print(' ')\n",
    "print('Superhosts confirm their identity %.0f percent of the time.' % (identity_super*100))\n",
    "print('Typical hosts confirm their identity %.0f percent of the time.' % (identity_norm*100))\n",
    "print(' ')\n",
    "print('Superhosts have flexible cancellation policies %.0f percent of the time.' % (flexible_cancel_super*100))\n",
    "print('Typical hosts have flexible cancellation policies %.0f percent of the time.' % (flexible_cancel_norm*100))"
   ]
  },
  {
   "cell_type": "markdown",
   "metadata": {},
   "source": [
    "### Deployment\n",
    "#### &nbsp;&nbsp;&nbsp;&nbsp;&nbsp;&nbsp; It looks like if someone wants to be a Superhost, they need to prioritize responding within an hour to potential inquiries, confirming their identities, and having firm cancellation plans."
   ]
  },
  {
   "cell_type": "markdown",
   "metadata": {},
   "source": [
    "## 3.  What does the average Airbnb host earn per year per listing?\n",
    "\n",
    "### Business Understanding\n",
    "#### &nbsp;&nbsp;&nbsp;&nbsp;&nbsp;&nbsp; For people considering becoming Airbnb hosts in Seattle, it's probably useful to know how much the average host is currently earning per year.  This will help new, potential hosts decide whether they should put their property up for traditional renting or up on Airbnb or perhaps not up for rent at all.\n",
    "<br>\n",
    "### Data Understanding\n",
    "#### &nbsp;&nbsp;&nbsp;&nbsp;&nbsp;&nbsp; To answer this, we'll need to know how many days a given property was occupied as well as what price it was occupied at per property.  Once this is known, we can find the total income per property, and then find the average total income per property.\n",
    "<br>\n",
    "### Data Preparation\n",
    "#### &nbsp;&nbsp;&nbsp;&nbsp;&nbsp;&nbsp; We'll need to create a dataframe for the number of days a given property was occupied as well as another dataframe for the average price per property.  After that, we can merge the two together on the listing_id and multiply average price by number of days occupied."
   ]
  },
  {
   "cell_type": "markdown",
   "metadata": {},
   "source": [
    "#### I'll calculate this by assuming that whenever a location is not available, it is occupied, and that it earned the average price per night occupied"
   ]
  },
  {
   "cell_type": "code",
   "execution_count": 9,
   "metadata": {},
   "outputs": [
    {
     "data": {
      "text/html": [
       "<div>\n",
       "<style scoped>\n",
       "    .dataframe tbody tr th:only-of-type {\n",
       "        vertical-align: middle;\n",
       "    }\n",
       "\n",
       "    .dataframe tbody tr th {\n",
       "        vertical-align: top;\n",
       "    }\n",
       "\n",
       "    .dataframe thead th {\n",
       "        text-align: right;\n",
       "    }\n",
       "</style>\n",
       "<table border=\"1\" class=\"dataframe\">\n",
       "  <thead>\n",
       "    <tr style=\"text-align: right;\">\n",
       "      <th></th>\n",
       "      <th>listing_id</th>\n",
       "      <th>date</th>\n",
       "      <th>available</th>\n",
       "      <th>price</th>\n",
       "      <th>price_2</th>\n",
       "    </tr>\n",
       "  </thead>\n",
       "  <tbody>\n",
       "    <tr>\n",
       "      <th>0</th>\n",
       "      <td>241032</td>\n",
       "      <td>2016-01-04</td>\n",
       "      <td>t</td>\n",
       "      <td>$85.00</td>\n",
       "      <td>85.0</td>\n",
       "    </tr>\n",
       "    <tr>\n",
       "      <th>1</th>\n",
       "      <td>241032</td>\n",
       "      <td>2016-01-05</td>\n",
       "      <td>t</td>\n",
       "      <td>$85.00</td>\n",
       "      <td>85.0</td>\n",
       "    </tr>\n",
       "    <tr>\n",
       "      <th>9</th>\n",
       "      <td>241032</td>\n",
       "      <td>2016-01-13</td>\n",
       "      <td>t</td>\n",
       "      <td>$85.00</td>\n",
       "      <td>85.0</td>\n",
       "    </tr>\n",
       "    <tr>\n",
       "      <th>10</th>\n",
       "      <td>241032</td>\n",
       "      <td>2016-01-14</td>\n",
       "      <td>t</td>\n",
       "      <td>$85.00</td>\n",
       "      <td>85.0</td>\n",
       "    </tr>\n",
       "    <tr>\n",
       "      <th>14</th>\n",
       "      <td>241032</td>\n",
       "      <td>2016-01-18</td>\n",
       "      <td>t</td>\n",
       "      <td>$85.00</td>\n",
       "      <td>85.0</td>\n",
       "    </tr>\n",
       "  </tbody>\n",
       "</table>\n",
       "</div>"
      ],
      "text/plain": [
       "    listing_id        date available   price  price_2\n",
       "0       241032  2016-01-04         t  $85.00     85.0\n",
       "1       241032  2016-01-05         t  $85.00     85.0\n",
       "9       241032  2016-01-13         t  $85.00     85.0\n",
       "10      241032  2016-01-14         t  $85.00     85.0\n",
       "14      241032  2016-01-18         t  $85.00     85.0"
      ]
     },
     "execution_count": 9,
     "metadata": {},
     "output_type": "execute_result"
    }
   ],
   "source": [
    "calendar_price_df.head(5)"
   ]
  },
  {
   "cell_type": "code",
   "execution_count": 10,
   "metadata": {},
   "outputs": [],
   "source": [
    "avg_price_df = calendar_price_df.groupby(['listing_id'])['price_2'].mean().reset_index()"
   ]
  },
  {
   "cell_type": "code",
   "execution_count": 11,
   "metadata": {},
   "outputs": [],
   "source": [
    "calendar_no_price_df = calendar_df[calendar_df['price'].isnull() == True]"
   ]
  },
  {
   "cell_type": "code",
   "execution_count": 12,
   "metadata": {},
   "outputs": [],
   "source": [
    "avg_stays_df = calendar_no_price_df.groupby(['listing_id'])['available'].count().reset_index()"
   ]
  },
  {
   "cell_type": "code",
   "execution_count": 13,
   "metadata": {},
   "outputs": [],
   "source": [
    "avg_stays_df = avg_stays_df.rename(index=str, columns={'available':'num_occupied'})"
   ]
  },
  {
   "cell_type": "code",
   "execution_count": 14,
   "metadata": {},
   "outputs": [
    {
     "data": {
      "text/html": [
       "<div>\n",
       "<style scoped>\n",
       "    .dataframe tbody tr th:only-of-type {\n",
       "        vertical-align: middle;\n",
       "    }\n",
       "\n",
       "    .dataframe tbody tr th {\n",
       "        vertical-align: top;\n",
       "    }\n",
       "\n",
       "    .dataframe thead th {\n",
       "        text-align: right;\n",
       "    }\n",
       "</style>\n",
       "<table border=\"1\" class=\"dataframe\">\n",
       "  <thead>\n",
       "    <tr style=\"text-align: right;\">\n",
       "      <th></th>\n",
       "      <th>listing_id</th>\n",
       "      <th>num_occupied</th>\n",
       "    </tr>\n",
       "  </thead>\n",
       "  <tbody>\n",
       "    <tr>\n",
       "      <th>0</th>\n",
       "      <td>3335</td>\n",
       "      <td>56</td>\n",
       "    </tr>\n",
       "    <tr>\n",
       "      <th>1</th>\n",
       "      <td>5682</td>\n",
       "      <td>56</td>\n",
       "    </tr>\n",
       "    <tr>\n",
       "      <th>2</th>\n",
       "      <td>7369</td>\n",
       "      <td>312</td>\n",
       "    </tr>\n",
       "    <tr>\n",
       "      <th>3</th>\n",
       "      <td>9460</td>\n",
       "      <td>308</td>\n",
       "    </tr>\n",
       "    <tr>\n",
       "      <th>4</th>\n",
       "      <td>9531</td>\n",
       "      <td>185</td>\n",
       "    </tr>\n",
       "  </tbody>\n",
       "</table>\n",
       "</div>"
      ],
      "text/plain": [
       "   listing_id  num_occupied\n",
       "0        3335            56\n",
       "1        5682            56\n",
       "2        7369           312\n",
       "3        9460           308\n",
       "4        9531           185"
      ]
     },
     "execution_count": 14,
     "metadata": {},
     "output_type": "execute_result"
    }
   ],
   "source": [
    "avg_stays_df.head()"
   ]
  },
  {
   "cell_type": "code",
   "execution_count": 15,
   "metadata": {},
   "outputs": [
    {
     "data": {
      "text/html": [
       "<div>\n",
       "<style scoped>\n",
       "    .dataframe tbody tr th:only-of-type {\n",
       "        vertical-align: middle;\n",
       "    }\n",
       "\n",
       "    .dataframe tbody tr th {\n",
       "        vertical-align: top;\n",
       "    }\n",
       "\n",
       "    .dataframe thead th {\n",
       "        text-align: right;\n",
       "    }\n",
       "</style>\n",
       "<table border=\"1\" class=\"dataframe\">\n",
       "  <thead>\n",
       "    <tr style=\"text-align: right;\">\n",
       "      <th></th>\n",
       "      <th>listing_id</th>\n",
       "      <th>price_2</th>\n",
       "    </tr>\n",
       "  </thead>\n",
       "  <tbody>\n",
       "    <tr>\n",
       "      <th>0</th>\n",
       "      <td>3335</td>\n",
       "      <td>120.000000</td>\n",
       "    </tr>\n",
       "    <tr>\n",
       "      <th>1</th>\n",
       "      <td>4291</td>\n",
       "      <td>82.000000</td>\n",
       "    </tr>\n",
       "    <tr>\n",
       "      <th>2</th>\n",
       "      <td>5682</td>\n",
       "      <td>53.944984</td>\n",
       "    </tr>\n",
       "    <tr>\n",
       "      <th>3</th>\n",
       "      <td>6606</td>\n",
       "      <td>92.849315</td>\n",
       "    </tr>\n",
       "    <tr>\n",
       "      <th>4</th>\n",
       "      <td>7369</td>\n",
       "      <td>85.000000</td>\n",
       "    </tr>\n",
       "  </tbody>\n",
       "</table>\n",
       "</div>"
      ],
      "text/plain": [
       "   listing_id     price_2\n",
       "0        3335  120.000000\n",
       "1        4291   82.000000\n",
       "2        5682   53.944984\n",
       "3        6606   92.849315\n",
       "4        7369   85.000000"
      ]
     },
     "execution_count": 15,
     "metadata": {},
     "output_type": "execute_result"
    }
   ],
   "source": [
    "avg_price_df.head()"
   ]
  },
  {
   "cell_type": "code",
   "execution_count": 16,
   "metadata": {},
   "outputs": [
    {
     "data": {
      "text/plain": [
       "3140"
      ]
     },
     "execution_count": 16,
     "metadata": {},
     "output_type": "execute_result"
    }
   ],
   "source": [
    "avg_stays_df.shape[0]"
   ]
  },
  {
   "cell_type": "code",
   "execution_count": 17,
   "metadata": {},
   "outputs": [
    {
     "data": {
      "text/plain": [
       "3723"
      ]
     },
     "execution_count": 17,
     "metadata": {},
     "output_type": "execute_result"
    }
   ],
   "source": [
    "avg_price_df.shape[0]"
   ]
  },
  {
   "cell_type": "markdown",
   "metadata": {},
   "source": [
    "#### Keep in mind that not all locations are ever rented.  Some are always available.\n",
    "#### For instance, listing_id 4291 is always available"
   ]
  },
  {
   "cell_type": "code",
   "execution_count": 18,
   "metadata": {},
   "outputs": [
    {
     "data": {
      "text/html": [
       "<div>\n",
       "<style scoped>\n",
       "    .dataframe tbody tr th:only-of-type {\n",
       "        vertical-align: middle;\n",
       "    }\n",
       "\n",
       "    .dataframe tbody tr th {\n",
       "        vertical-align: top;\n",
       "    }\n",
       "\n",
       "    .dataframe thead th {\n",
       "        text-align: right;\n",
       "    }\n",
       "</style>\n",
       "<table border=\"1\" class=\"dataframe\">\n",
       "  <thead>\n",
       "    <tr style=\"text-align: right;\">\n",
       "      <th></th>\n",
       "      <th>listing_id</th>\n",
       "      <th>date</th>\n",
       "      <th>available</th>\n",
       "      <th>price</th>\n",
       "    </tr>\n",
       "  </thead>\n",
       "  <tbody>\n",
       "  </tbody>\n",
       "</table>\n",
       "</div>"
      ],
      "text/plain": [
       "Empty DataFrame\n",
       "Columns: [listing_id, date, available, price]\n",
       "Index: []"
      ]
     },
     "execution_count": 18,
     "metadata": {},
     "output_type": "execute_result"
    }
   ],
   "source": [
    "calendar_df[(calendar_df['listing_id'] == 4291) & (calendar_df['available'] == 'f')].head(5)"
   ]
  },
  {
   "cell_type": "code",
   "execution_count": 19,
   "metadata": {},
   "outputs": [],
   "source": [
    "full_earnings_df = avg_stays_df.merge(avg_price_df, how='left', on='listing_id')"
   ]
  },
  {
   "cell_type": "markdown",
   "metadata": {},
   "source": [
    "#### This new dataframe has 3,140 rows.  95 of those rows have no prices because they were occupied every single day.  Given that this is such a small portion of our dataset (about 3%), I'll drop those rows."
   ]
  },
  {
   "cell_type": "code",
   "execution_count": 20,
   "metadata": {},
   "outputs": [
    {
     "data": {
      "text/plain": [
       "3140"
      ]
     },
     "execution_count": 20,
     "metadata": {},
     "output_type": "execute_result"
    }
   ],
   "source": [
    "full_earnings_df.shape[0]"
   ]
  },
  {
   "cell_type": "code",
   "execution_count": 21,
   "metadata": {},
   "outputs": [
    {
     "data": {
      "text/plain": [
       "95"
      ]
     },
     "execution_count": 21,
     "metadata": {},
     "output_type": "execute_result"
    }
   ],
   "source": [
    "full_earnings_df[full_earnings_df['price_2'].isnull() == True].shape[0]"
   ]
  },
  {
   "cell_type": "code",
   "execution_count": 22,
   "metadata": {},
   "outputs": [],
   "source": [
    "full_earnings_df = full_earnings_df.dropna()"
   ]
  },
  {
   "cell_type": "code",
   "execution_count": 23,
   "metadata": {},
   "outputs": [],
   "source": [
    "full_earnings_df['total_earnings'] = full_earnings_df['price_2'] * full_earnings_df['num_occupied']"
   ]
  },
  {
   "cell_type": "markdown",
   "metadata": {},
   "source": [
    "### Modeling\n",
    "#### &nbsp;&nbsp;&nbsp;&nbsp;&nbsp;&nbsp;  Here, our objective is simply to see the average and median earnings per year."
   ]
  },
  {
   "cell_type": "markdown",
   "metadata": {},
   "source": [
    "#### The average earnings per year on Seattle Airbnb rooms is $18,250."
   ]
  },
  {
   "cell_type": "markdown",
   "metadata": {},
   "source": [
    "#### The median earnings per year is $11,700."
   ]
  },
  {
   "cell_type": "code",
   "execution_count": 24,
   "metadata": {},
   "outputs": [
    {
     "data": {
      "text/plain": [
       "18250.850089528314"
      ]
     },
     "execution_count": 24,
     "metadata": {},
     "output_type": "execute_result"
    }
   ],
   "source": [
    "full_earnings_df['total_earnings'].mean()"
   ]
  },
  {
   "cell_type": "code",
   "execution_count": 25,
   "metadata": {},
   "outputs": [
    {
     "data": {
      "text/plain": [
       "11700.0"
      ]
     },
     "execution_count": 25,
     "metadata": {},
     "output_type": "execute_result"
    }
   ],
   "source": [
    "full_earnings_df['total_earnings'].median()"
   ]
  },
  {
   "cell_type": "markdown",
   "metadata": {},
   "source": [
    "### Evaluation\n",
    "#### &nbsp;&nbsp;&nbsp;&nbsp;&nbsp;&nbsp;  Interestingly, the mean is much higher than the median, which seems to indicate that a few very high earning Airbnb locations are skewing our results to the right.  So, when we look at a histogram, we see what we expect.  Most Airbnb rooms make less than $25,000."
   ]
  },
  {
   "cell_type": "code",
   "execution_count": 26,
   "metadata": {},
   "outputs": [
    {
     "data": {
      "image/png": "[encoded data removed]",
      "text/plain": [
       "<Figure size 1440x720 with 1 Axes>"
      ]
     },
     "metadata": {},
     "output_type": "display_data"
    }
   ],
   "source": [
    "fig, ax = plt.subplots(1,1, figsize=(20,10))\n",
    "full_earnings_df['total_earnings'].hist();"
   ]
  },
  {
   "cell_type": "markdown",
   "metadata": {},
   "source": [
    "### Deployment\n",
    "#### &nbsp;&nbsp;&nbsp;&nbsp;&nbsp;&nbsp;  Essentially, it's probably unreasonable for someone to assume that they'll make more than \\\\$18,000 by hosting an Airbnb.\n",
    "#### &nbsp;&nbsp;&nbsp;&nbsp;&nbsp;&nbsp; The typical person will be earning around \\\\$11,700.\n",
    "#### &nbsp;&nbsp;&nbsp;&nbsp;&nbsp;&nbsp; Also, these results seem to suggest that the typical Airbnb is on the smaller side, with a few being much larger and able to charge much higher prices."
   ]
  },
  {
   "cell_type": "markdown",
   "metadata": {},
   "source": [
    "## In summary,\n",
    "* Demand in Seattle's Airbnb market fluctuates largely based upon seasonality.  Seattle's highest demand season is during the summer, and its lowest demand season is during the late winter.\n",
    "* Three factors are associated with being a superhost rather than a typical host.\n",
    "    1. Superhosts generally respond within one hour to inquiries\n",
    "    2. Superhosts are more likely to have verified their profile.\n",
    "    3. Superhosts usually don't allow flexible cancellation policies.\n",
    "* For people looking into hosting on Airbnb, the median earnings per year is \\\\$11,700.  So, half of hosts earn more than that, while half of hosts earn less than that.  This seems to be a good estimate of how much a host is likely to earn.\n"
   ]
  },
  {
   "cell_type": "code",
   "execution_count": 27,
   "metadata": {},
   "outputs": [],
   "source": []
  }
 ],
 "metadata": {
  "kernelspec": {
   "display_name": "Python 3",
   "language": "python",
   "name": "python3"
  },
  "language_info": {
   "codemirror_mode": {
    "name": "ipython",
    "version": 3
   },
   "file_extension": ".py",
   "mimetype": "text/x-python",
   "name": "python",
   "nbconvert_exporter": "python",
   "pygments_lexer": "ipython3",
   "version": "3.6.4"
  }
 },
 "nbformat": 4,
 "nbformat_minor": 1
}
